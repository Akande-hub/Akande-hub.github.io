{
  "cells": [
    {
      "cell_type": "markdown",
      "metadata": {
        "id": "view-in-github",
        "colab_type": "text"
      },
      "source": [
        "<a href=\"https://colab.research.google.com/github/Akande-hub/Akande-hub.github.io/blob/dev/Flipkart.ipynb\" target=\"_parent\"><img src=\"https://colab.research.google.com/assets/colab-badge.svg\" alt=\"Open In Colab\"/></a>"
      ]
    },
    {
      "cell_type": "code",
      "execution_count": null,
      "id": "smoking-centre",
      "metadata": {
        "id": "smoking-centre"
      },
      "outputs": [],
      "source": [
        "import pandas as pd\n",
        "from bs4 import BeautifulSoup as soup\n",
        "from urllib.request import urlopen as uReq"
      ]
    },
    {
      "cell_type": "code",
      "execution_count": null,
      "id": "classical-greene",
      "metadata": {
        "id": "classical-greene",
        "outputId": "20978658-6cb1-44dd-e7c5-9ec154b8f84e"
      },
      "outputs": [
        {
          "data": {
            "text/plain": [
              "31"
            ]
          },
          "execution_count": 2,
          "metadata": {},
          "output_type": "execute_result"
        }
      ],
      "source": [
        "my_url = 'https://www.flipkart.com/search?q=iphone&otracker=search&otracker1=search&marketplace=FLIPKART&as-show=on&as=off&page=5'\n",
        "\n",
        "uClient = uReq(my_url)\n",
        "page_html = uClient.read()\n",
        "uClient.close()\n",
        "page_soup= soup(page_html,\"html.parser\")\n",
        "\n",
        "containers =page_soup.findAll(\"div\",{\"class\": \"_13oc-S\"})\n",
        "\n",
        "#print(len(containers))\n",
        "\n",
        "#print(soup.prettify(containers[0]))\n",
        "container = containers[0]\n",
        "\n",
        "#print(container.div.img[\"alt\"])\n",
        "\n",
        "price = container.findAll(\"div\",{\"class\":\"col col-5-12 nlI3QM\"})\n",
        "#print(price[0].text)\n",
        "\n",
        "ratings=container.findAll(\"div\",{\"class\":\"gUuXy-\"})\n",
        "#print(ratings[0].text)\n",
        "\n",
        "filename= \"products5.csv\"\n",
        "f=open(filename,\"w\")\n",
        "\n",
        "headers=\"PRODUCT_NAME, PRICING, RATINGS\\n\"\n",
        "\n",
        "f.write(headers)\n"
      ]
    },
    {
      "cell_type": "code",
      "execution_count": null,
      "id": "alert-synthesis",
      "metadata": {
        "id": "alert-synthesis",
        "outputId": "f65d8566-a45a-4433-baae-1d038e0f8569"
      },
      "outputs": [
        {
          "name": "stdout",
          "output_type": "stream",
          "text": [
            "APPLE iPhone XS (Gold| 512 GB),Rs.1 34 900,4.7\n",
            "\n",
            "APPLE iPhone 12 Pro (Pacific Blue| 256 GB),Rs.1 19 900 ,4.6\n",
            "\n",
            "APPLE iPhone SE (Black| 256 GB),Rs.43 999,4.5\n",
            "\n",
            "APPLE iPhone 13 Pro (Gold| 256 GB),Rs.1 29 900 ,4.7\n",
            "\n",
            "APPLE iPhone 12 Pro (Pacific Blue| 512 GB),Rs.1 39 900 ,4.6\n",
            "\n",
            "APPLE iPhone 8 (Gold| 256 GB),Rs.77 000,4.5\n",
            "\n",
            "APPLE iPhone 12 Pro (Graphite| 256 GB),Rs.1 19 900 ,4.6\n",
            "\n",
            "APPLE iPhone 12 Pro Max (Pacific Blue| 512 ,Rs.1 49 900 ,4.6\n",
            "\n",
            "APPLE iPhone 6 (Space Grey| 16 GB),Rs.52 000,4.4\n",
            "\n",
            "APPLE iPhone 12 Pro (Gold| 128 GB),Rs.1 09 900 ,4.6\n",
            "\n",
            "APPLE iPhone 13 (Pink| 512 GB),Rs.1 09 900 ,4.7\n",
            "\n",
            "APPLE iPhone 13 (Starlight| 512 GB),Rs.1 09 900 ,4.7\n",
            "\n",
            "APPLE iPhone 12 Pro (Silver| 128 GB),Rs.1 09 900 ,4.6\n",
            "\n",
            "APPLE iPhone 13 Pro (Silver| 128 GB),Rs.1 19 900 ,4.7\n",
            "\n",
            "APPLE iPhone 13 Pro Max (Sierra Blue| 512 G,Rs.1 59 900 ,4.7\n",
            "\n",
            "APPLE iPhone 13 Pro (Sierra Blue| 1 TB),Rs.1 69 900 ,4.7\n",
            "\n",
            "APPLE iPhone 13 Pro (Sierra Blue| 512 GB),Rs.1 49 900 ,4.7\n",
            "\n",
            "APPLE iPhone 8 (Silver| 256 GB),Rs.77 000 ,4.5\n",
            "\n",
            "APPLE iPhone 12 Pro (Graphite| 512 GB),Rs.1 39 900 ,4.6\n",
            "\n",
            "APPLE iPhone 12 Pro (Pacific Blue| 128 GB),Rs.1 09 900 ,4.6\n",
            "\n",
            "APPLE iPhone 12 Pro Max (Silver| 512 GB),Rs.1 49 900 ,4.6\n",
            "\n",
            "APPLE iPhone 11 Pro Max (Silver| 64 GB),Rs.1 17 100 ,4.7\n",
            "\n",
            "APPLE iPhone 12 Pro Max (Pacific Blue| 256 ,Rs.1 29 900 ,4.6\n",
            "\n",
            "APPLE iPhone 12 Pro Max (Gold| 256 GB),Rs.1 29 900 ,4.6\n",
            "\n"
          ]
        }
      ],
      "source": [
        "for container in containers:\n",
        "    product_name1 = container.div.img[\"alt\"]\n",
        "\n",
        "    price_container = container.findAll(\"div\",{\"class\":\"col col-5-12 nlI3QM\"})\n",
        "    price = price_container[0].text.strip()\n",
        "\n",
        "    rating_container = container.findAll(\"div\",{\"class\":\"gUuXy-\"})\n",
        "    rating = rating_container[0].text\n",
        "\n",
        "    #print(\"product_name:\" + product_name1)\n",
        "    #print(\"price:\" + price)\n",
        "    #print(\"ratings:\" + rating)\n",
        "\n",
        "    #string parsing\n",
        "    product_name = ''.join(product_name1.split(\" (Includes EarPods, Power Adapter)\"))\n",
        "    product_name = str(product_name[0:43])\n",
        "    trim_price = ''.join(price.split('Free deliveryUpto'))\n",
        "    rm_rupee =trim_price.split(\"₹\")\n",
        "    ad_rs_price = \"Rs.\" + rm_rupee[1]\n",
        "    split_price = ad_rs_price\n",
        "    final_price = split_price\n",
        "\n",
        "    split_rating = rating.split(\" R\")\n",
        "    final_rating1 = split_rating[0]\n",
        "    final_rating = final_rating1[0:3]\n",
        "\n",
        "    print(product_name.replace(\",\", \"|\") + \",\" + final_price.replace(\",\", \" \") + \",\" + final_rating + \"\\n\")\n",
        "    f.write(product_name.replace(\",\", \"|\") + \",\" + final_price.replace(\",\", \" \") + \",\" + final_rating + \"\\n\")\n",
        "f.close()"
      ]
    },
    {
      "cell_type": "code",
      "execution_count": null,
      "id": "raising-taste",
      "metadata": {
        "id": "raising-taste"
      },
      "outputs": [],
      "source": [
        "# merging the files\n",
        "# joined_files = os.path.join(\"C:/Users/Akande/Desktop/Block 3/BDA Project/Job/Flipkart/\", \"products*.csv\")\n",
        "\n",
        "# # A list of all joined files is returned\n",
        "# joined_list = glob.glob(joined_files)\n",
        "\n",
        "# # Finally, the files are joined\n",
        "# df = pd.concat(map(pd.read_csv, joined_list), ignore_index=True)\n",
        "# print(df)\n",
        "\n",
        "# df.to_csv(r\"C:/Users/Akande/Desktop/Block 3/BDA Project/Job/Flipkart/prod.csv\", index = False)"
      ]
    },
    {
      "cell_type": "code",
      "execution_count": null,
      "id": "varied-oriental",
      "metadata": {
        "id": "varied-oriental"
      },
      "outputs": [],
      "source": [
        "df = pd.read_csv(\"prod.csv\")"
      ]
    },
    {
      "cell_type": "code",
      "execution_count": null,
      "id": "black-growing",
      "metadata": {
        "id": "black-growing",
        "outputId": "a48fdb88-847d-4c6f-99fe-33d57407ef30"
      },
      "outputs": [
        {
          "data": {
            "text/html": [
              "<div>\n",
              "<style scoped>\n",
              "    .dataframe tbody tr th:only-of-type {\n",
              "        vertical-align: middle;\n",
              "    }\n",
              "\n",
              "    .dataframe tbody tr th {\n",
              "        vertical-align: top;\n",
              "    }\n",
              "\n",
              "    .dataframe thead th {\n",
              "        text-align: right;\n",
              "    }\n",
              "</style>\n",
              "<table border=\"1\" class=\"dataframe\">\n",
              "  <thead>\n",
              "    <tr style=\"text-align: right;\">\n",
              "      <th></th>\n",
              "      <th>PRODUCT_NAME</th>\n",
              "      <th>PRICING</th>\n",
              "      <th>RATINGS</th>\n",
              "    </tr>\n",
              "  </thead>\n",
              "  <tbody>\n",
              "    <tr>\n",
              "      <th>0</th>\n",
              "      <td>APPLE iPhone SE (Black| 64 GB)</td>\n",
              "      <td>Rs.28 999</td>\n",
              "      <td>4.5</td>\n",
              "    </tr>\n",
              "    <tr>\n",
              "      <th>1</th>\n",
              "      <td>APPLE iPhone 12 (Black| 64 GB)</td>\n",
              "      <td>Rs.52 999</td>\n",
              "      <td>4.7</td>\n",
              "    </tr>\n",
              "    <tr>\n",
              "      <th>2</th>\n",
              "      <td>APPLE iPhone SE (White| 64 GB)</td>\n",
              "      <td>Rs.28 999</td>\n",
              "      <td>4.5</td>\n",
              "    </tr>\n",
              "    <tr>\n",
              "      <th>3</th>\n",
              "      <td>APPLE iPhone 12 Mini (Blue| 128 GB)</td>\n",
              "      <td>Rs.54 999</td>\n",
              "      <td>4.5</td>\n",
              "    </tr>\n",
              "    <tr>\n",
              "      <th>4</th>\n",
              "      <td>APPLE iPhone SE (Red| 64 GB)</td>\n",
              "      <td>Rs.28 999</td>\n",
              "      <td>4.5</td>\n",
              "    </tr>\n",
              "    <tr>\n",
              "      <th>5</th>\n",
              "      <td>APPLE iPhone 12 Mini (White| 64 GB)</td>\n",
              "      <td>Rs.40 249</td>\n",
              "      <td>4.5</td>\n",
              "    </tr>\n",
              "    <tr>\n",
              "      <th>6</th>\n",
              "      <td>APPLE iPhone SE (Red| 128 GB)</td>\n",
              "      <td>Rs.33 999</td>\n",
              "      <td>4.5</td>\n",
              "    </tr>\n",
              "    <tr>\n",
              "      <th>7</th>\n",
              "      <td>APPLE iPhone 12 Mini (Blue| 64 GB)</td>\n",
              "      <td>Rs.40 249</td>\n",
              "      <td>4.5</td>\n",
              "    </tr>\n",
              "    <tr>\n",
              "      <th>8</th>\n",
              "      <td>APPLE iPhone 12 Mini (Black| 64 GB)</td>\n",
              "      <td>Rs.40 249</td>\n",
              "      <td>4.5</td>\n",
              "    </tr>\n",
              "    <tr>\n",
              "      <th>9</th>\n",
              "      <td>Apple iPhone XR (White| 128 GB)</td>\n",
              "      <td>Rs.39 999</td>\n",
              "      <td>4.6</td>\n",
              "    </tr>\n",
              "    <tr>\n",
              "      <th>10</th>\n",
              "      <td>APPLE iPhone 12 (Blue| 128 GB)</td>\n",
              "      <td>Rs.64 999</td>\n",
              "      <td>4.7</td>\n",
              "    </tr>\n",
              "    <tr>\n",
              "      <th>11</th>\n",
              "      <td>APPLE iPhone SE (Black| 128 GB)</td>\n",
              "      <td>Rs.33 999</td>\n",
              "      <td>4.5</td>\n",
              "    </tr>\n",
              "    <tr>\n",
              "      <th>12</th>\n",
              "      <td>APPLE iPhone 12 Mini (Green| 64 GB)</td>\n",
              "      <td>Rs.40 249</td>\n",
              "      <td>4.5</td>\n",
              "    </tr>\n",
              "    <tr>\n",
              "      <th>13</th>\n",
              "      <td>Apple iPhone XR ((PRODUCT)RED| 64 GB)</td>\n",
              "      <td>Rs.34 999</td>\n",
              "      <td>4.6</td>\n",
              "    </tr>\n",
              "    <tr>\n",
              "      <th>14</th>\n",
              "      <td>APPLE iPhone 13 (Pink| 128 GB)</td>\n",
              "      <td>Rs.79 900</td>\n",
              "      <td>4.7</td>\n",
              "    </tr>\n",
              "    <tr>\n",
              "      <th>15</th>\n",
              "      <td>APPLE iPhone SE (White| 128 GB)</td>\n",
              "      <td>Rs.33 999</td>\n",
              "      <td>4.5</td>\n",
              "    </tr>\n",
              "    <tr>\n",
              "      <th>16</th>\n",
              "      <td>APPLE iPhone 13 (Blue| 128 GB)</td>\n",
              "      <td>Rs.79 900</td>\n",
              "      <td>4.7</td>\n",
              "    </tr>\n",
              "    <tr>\n",
              "      <th>17</th>\n",
              "      <td>Apple iPhone XR (White| 64 GB)</td>\n",
              "      <td>Rs.34 999</td>\n",
              "      <td>4.6</td>\n",
              "    </tr>\n",
              "    <tr>\n",
              "      <th>18</th>\n",
              "      <td>APPLE iPhone 13 Mini (Midnight| 128 GB)</td>\n",
              "      <td>Rs.69 900</td>\n",
              "      <td>4.7</td>\n",
              "    </tr>\n",
              "    <tr>\n",
              "      <th>19</th>\n",
              "      <td>APPLE iPhone 13 (Midnight| 256 GB)</td>\n",
              "      <td>Rs.89 900</td>\n",
              "      <td>4.7</td>\n",
              "    </tr>\n",
              "  </tbody>\n",
              "</table>\n",
              "</div>"
            ],
            "text/plain": [
              "                               PRODUCT_NAME     PRICING   RATINGS\n",
              "0            APPLE iPhone SE (Black| 64 GB)   Rs.28 999       4.5\n",
              "1            APPLE iPhone 12 (Black| 64 GB)   Rs.52 999       4.7\n",
              "2            APPLE iPhone SE (White| 64 GB)   Rs.28 999       4.5\n",
              "3       APPLE iPhone 12 Mini (Blue| 128 GB)   Rs.54 999       4.5\n",
              "4              APPLE iPhone SE (Red| 64 GB)   Rs.28 999       4.5\n",
              "5       APPLE iPhone 12 Mini (White| 64 GB)   Rs.40 249       4.5\n",
              "6             APPLE iPhone SE (Red| 128 GB)   Rs.33 999       4.5\n",
              "7        APPLE iPhone 12 Mini (Blue| 64 GB)   Rs.40 249       4.5\n",
              "8       APPLE iPhone 12 Mini (Black| 64 GB)   Rs.40 249       4.5\n",
              "9           Apple iPhone XR (White| 128 GB)   Rs.39 999       4.6\n",
              "10           APPLE iPhone 12 (Blue| 128 GB)   Rs.64 999       4.7\n",
              "11          APPLE iPhone SE (Black| 128 GB)   Rs.33 999       4.5\n",
              "12      APPLE iPhone 12 Mini (Green| 64 GB)   Rs.40 249       4.5\n",
              "13    Apple iPhone XR ((PRODUCT)RED| 64 GB)   Rs.34 999       4.6\n",
              "14           APPLE iPhone 13 (Pink| 128 GB)  Rs.79 900        4.7\n",
              "15          APPLE iPhone SE (White| 128 GB)   Rs.33 999       4.5\n",
              "16           APPLE iPhone 13 (Blue| 128 GB)  Rs.79 900        4.7\n",
              "17           Apple iPhone XR (White| 64 GB)   Rs.34 999       4.6\n",
              "18  APPLE iPhone 13 Mini (Midnight| 128 GB)  Rs.69 900        4.7\n",
              "19       APPLE iPhone 13 (Midnight| 256 GB)  Rs.89 900        4.7"
            ]
          },
          "execution_count": 5,
          "metadata": {},
          "output_type": "execute_result"
        }
      ],
      "source": [
        "df.head(20)"
      ]
    },
    {
      "cell_type": "code",
      "execution_count": null,
      "id": "iraqi-blast",
      "metadata": {
        "id": "iraqi-blast",
        "outputId": "59b7a0de-4380-4728-ecb9-9ec9389e87a6"
      },
      "outputs": [
        {
          "name": "stdout",
          "output_type": "stream",
          "text": [
            "<class 'pandas.core.frame.DataFrame'>\n",
            "RangeIndex: 120 entries, 0 to 119\n",
            "Data columns (total 3 columns):\n",
            " #   Column        Non-Null Count  Dtype  \n",
            "---  ------        --------------  -----  \n",
            " 0   PRODUCT_NAME  120 non-null    object \n",
            " 1    PRICING      120 non-null    object \n",
            " 2    RATINGS      120 non-null    float64\n",
            "dtypes: float64(1), object(2)\n",
            "memory usage: 2.9+ KB\n"
          ]
        }
      ],
      "source": [
        "df.info()"
      ]
    },
    {
      "cell_type": "code",
      "execution_count": null,
      "id": "rubber-camcorder",
      "metadata": {
        "id": "rubber-camcorder"
      },
      "outputs": [],
      "source": [
        ""
      ]
    }
  ],
  "metadata": {
    "kernelspec": {
      "display_name": "Python 3",
      "language": "python",
      "name": "python3"
    },
    "language_info": {
      "codemirror_mode": {
        "name": "ipython",
        "version": 3
      },
      "file_extension": ".py",
      "mimetype": "text/x-python",
      "name": "python",
      "nbconvert_exporter": "python",
      "pygments_lexer": "ipython3",
      "version": "3.9.2"
    },
    "colab": {
      "name": "Flipkart.ipynb",
      "provenance": [],
      "include_colab_link": true
    }
  },
  "nbformat": 4,
  "nbformat_minor": 5
}